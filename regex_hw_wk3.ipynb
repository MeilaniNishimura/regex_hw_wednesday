{
 "cells": [
  {
   "cell_type": "code",
   "execution_count": 3,
   "id": "b300ea60",
   "metadata": {},
   "outputs": [],
   "source": [
    "# [\n",
    "#     ([first name] [last name],\n",
    "#      email, \n",
    "#      phone,\n",
    "#      occupation,\n",
    "#      Twitter handle)\n",
    "# ]"
   ]
  },
  {
   "cell_type": "code",
   "execution_count": 4,
   "id": "24c6b651",
   "metadata": {},
   "outputs": [],
   "source": [
    "information= '''\n",
    "Hawkins, Derek\tderek@codingtemple.com\t(555) 555-5555\tTeacher, Coding Temple\t@derekhawkins\n",
    "Milliken, Connor\tconnor@codingtemple.com\t(555) 555-5554\tTeacher, Coding Temple\n",
    "Johnson, Joe\tjoejohnson@codingtemple.com\t\tCarter, Joel\n",
    "Österberg, Sven-Erik\tgovernor@norrbotten.co.se\t\tGovernor, Norrbotten\t@sverik\n",
    ", Tim\ttim@killerrabbit.com\t\tEnchanter, Killer Rabbit Cave\n",
    "Butz, Ryan\tryanb@codingtemple.com\t(555) 555-5543\tCEO, Coding Temple\t@ryanbutz\n",
    "Doctor, The\tdoctor+companion@tardis.co.uk\t\tTime Lord, Gallifrey\n",
    "Exampleson, Example\tme@example.com\t555-555-5552\tExample, Example Co.\t@example\n",
    "Obama, Barack\tpresident.44@us.gov\t555 555-5551\tPresident, United States of America\t@potus44\n",
    "Patel, Ripal\tripalp@codingtemple.com\t(555) 555-5553\tTeacher, Coding Temple\t@ripalp\n",
    "Vader, Darth\tdarth-vader@empire.gov\t(555) 555-4444\tSith Lord, Galactic Empire\t@darthvader\n",
    "Fernández de la Vega Sanz, María Teresa\tmtfvs@spain.gov\t\tFirst Deputy Prime Minister, Spanish Govt.\n",
    "'''"
   ]
  },
  {
   "cell_type": "code",
   "execution_count": 19,
   "id": "2ce446f2",
   "metadata": {},
   "outputs": [],
   "source": [
    "import re\n",
    "file = open('./names.txt', encoding='utf-8')\n",
    "information = file.read()\n",
    "file.close()"
   ]
  },
  {
   "cell_type": "code",
   "execution_count": 21,
   "id": "c58bbf42",
   "metadata": {},
   "outputs": [
    {
     "name": "stdout",
     "output_type": "stream",
     "text": [
      "Hawkins, Derek\tderek@codingtemple.com\t(555) 555-5555\tTeacher, Coding Temple\t@derekhawkins\n",
      "Milliken, Connor\tconnor@codingtemple.com\t(555) 555-5554\tTeacher, Coding Temple\n",
      "Johnson, Joe\tjoejohnson@codingtemple.com\t\tCarter, Joel\n",
      "Österberg, Sven-Erik\tgovernor@norrbotten.co.se\t\tGovernor, Norrbotten\t@sverik\n",
      ", Tim\ttim@killerrabbit.com\t\tEnchanter, Killer Rabbit Cave\n",
      "Butz, Ryan\tryanb@codingtemple.com\t(555) 555-5543\tCEO, Coding Temple\t@ryanbutz\n",
      "Doctor, The\tdoctor+companion@tardis.co.uk\t\tTime Lord, Gallifrey\n",
      "Exampleson, Example\tme@example.com\t555-555-5552\tExample, Example Co.\t@example\n",
      "Obama, Barack\tpresident.44@us.gov\t555 555-5551\tPresident, United States of America\t@potus44\n",
      "Patel, Ripal\tripalp@codingtemple.com\t(555) 555-5553\tTeacher, Coding Temple\t@ripalp\n",
      "Vader, Darth\tdarth-vader@empire.gov\t(555) 555-4444\tSith Lord, Galactic Empire\t@darthvader\n",
      "Fernández de la Vega Sanz, María Teresa\tmtfvs@spain.gov\t\tFirst Deputy Prime Minister, Spanish Govt.\n"
     ]
    }
   ],
   "source": [
    "print(information)"
   ]
  },
  {
   "cell_type": "code",
   "execution_count": 37,
   "id": "2bd97e6f",
   "metadata": {},
   "outputs": [
    {
     "data": {
      "text/plain": [
       "[('Hawkins, Derek',\n",
       "  'derek@codingtemple.com',\n",
       "  '(555) 555-5555',\n",
       "  'Teacher, Coding Temple',\n",
       "  '@derekhawkins'),\n",
       " ('Milliken, Connor',\n",
       "  'connor@codingtemple.com',\n",
       "  '(555) 555-5554',\n",
       "  'Teacher, Coding Temple',\n",
       "  ''),\n",
       " ('Johnson, Joe', 'joejohnson@codingtemple.com', '', 'Carter, Joel', ''),\n",
       " (', Tim', 'tim@killerrabbit.com', '', 'Enchanter, Killer Rabbit Cave', ''),\n",
       " ('Butz, Ryan',\n",
       "  'ryanb@codingtemple.com',\n",
       "  '(555) 555-5543',\n",
       "  'CEO, Coding Temple',\n",
       "  '@ryanbutz'),\n",
       " ('Doctor, The',\n",
       "  'doctor+companion@tardis.co.uk',\n",
       "  '',\n",
       "  'Time Lord, Gallifrey',\n",
       "  ''),\n",
       " ('Exampleson, Example',\n",
       "  'me@example.com',\n",
       "  '555-555-5552',\n",
       "  'Example, Example',\n",
       "  ''),\n",
       " ('Obama, Barack',\n",
       "  'president.44@us.gov',\n",
       "  '555 555-5551',\n",
       "  'President, United States of America',\n",
       "  '@potus44'),\n",
       " ('Patel, Ripal',\n",
       "  'ripalp@codingtemple.com',\n",
       "  '(555) 555-5553',\n",
       "  'Teacher, Coding Temple',\n",
       "  '@ripalp'),\n",
       " ('Vader, Darth',\n",
       "  'darth-vader@empire.gov',\n",
       "  '(555) 555-4444',\n",
       "  'Sith Lord, Galactic Empire',\n",
       "  '@darthvader'),\n",
       " ('Fernández de la Vega Sanz, María Teresa',\n",
       "  'mtfvs@spain.gov',\n",
       "  '',\n",
       "  'First Deputy Prime Minister, Spanish',\n",
       "  '')]"
      ]
     },
     "execution_count": 37,
     "metadata": {},
     "output_type": "execute_result"
    }
   ],
   "source": [
    "info = re.findall(r'''\n",
    "    ([\\w+ \\w+]*,[\\w \\w]*)\n",
    "    \\s+\n",
    "    ([\\d\\w\\-+.]+@[-.\\w\\d]+)\n",
    "    \\s+\n",
    "    (\\+?\\d?\\s?\\(?\\d{3}\\)?\\s?-?\\d{3}-\\d{4})?\n",
    "    \\s+\n",
    "    ([\\w+ \\w+]*,\\s[\\w ]+)?\n",
    "    \\s+\n",
    "    (@[\\d\\w]+)?\n",
    "''', information, re.X)\n",
    "\n",
    "info\n"
   ]
  }
 ],
 "metadata": {
  "kernelspec": {
   "display_name": "Python 3 (ipykernel)",
   "language": "python",
   "name": "python3"
  },
  "language_info": {
   "codemirror_mode": {
    "name": "ipython",
    "version": 3
   },
   "file_extension": ".py",
   "mimetype": "text/x-python",
   "name": "python",
   "nbconvert_exporter": "python",
   "pygments_lexer": "ipython3",
   "version": "3.9.12"
  }
 },
 "nbformat": 4,
 "nbformat_minor": 5
}
